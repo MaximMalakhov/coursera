{
 "cells": [
  {
   "cell_type": "code",
   "execution_count": 2,
   "metadata": {
    "collapsed": true
   },
   "outputs": [],
   "source": [
    "from scipy.spatial.distance import cosine\n",
    "import numpy as np\n",
    "import re"
   ]
  },
  {
   "cell_type": "code",
   "execution_count": 3,
   "metadata": {
    "collapsed": true
   },
   "outputs": [],
   "source": [
    "f = open(\"sentences.txt\")\n",
    "data = f.readlines()\n",
    "f.close()"
   ]
  },
  {
   "cell_type": "code",
   "execution_count": 4,
   "metadata": {
    "collapsed": true
   },
   "outputs": [],
   "source": [
    "lines = []\n",
    "for i in xrange(0,len(data)):\n",
    "    lines.append(filter(None, re.split('[^a-z]', data[i].lower())))"
   ]
  },
  {
   "cell_type": "code",
   "execution_count": 6,
   "metadata": {
    "collapsed": true
   },
   "outputs": [],
   "source": [
    "words = dict()\n",
    "i = 0\n",
    "for line in lines:\n",
    "    for word in line:\n",
    "        if word in words:\n",
    "            continue\n",
    "        words[word] = i\n",
    "        i += 1"
   ]
  },
  {
   "cell_type": "code",
   "execution_count": 8,
   "metadata": {
    "collapsed": true
   },
   "outputs": [],
   "source": [
    "matr = np.zeros((22,254))\n",
    "for i in xrange(0,len(lines)):\n",
    "    for word in lines[i]:\n",
    "        matr[i,words[word]] += 1 "
   ]
  },
  {
   "cell_type": "code",
   "execution_count": 49,
   "metadata": {
    "collapsed": true
   },
   "outputs": [],
   "source": [
    "res_cos = []\n",
    "res_cos.append((0,1))\n",
    "for i in xrange(1,len(lines)):\n",
    "    res_cos.append((i,cosine(matr[0],matr[i])))"
   ]
  },
  {
   "cell_type": "code",
   "execution_count": 56,
   "metadata": {
    "collapsed": true
   },
   "outputs": [],
   "source": [
    "res_cos = sorted(res_cos,key=lambda tup: tup[1])"
   ]
  },
  {
   "cell_type": "code",
   "execution_count": 57,
   "metadata": {},
   "outputs": [
    {
     "data": {
      "text/plain": [
       "[(6, 0.7327387580875756),\n",
       " (4, 0.77708871496985887),\n",
       " (21, 0.82503644694405864),\n",
       " (10, 0.83281653622739416),\n",
       " (12, 0.83964325485254543),\n",
       " (16, 0.84063618542208085),\n",
       " (20, 0.84275727449171223),\n",
       " (2, 0.86447381456421235),\n",
       " (13, 0.87035925528956715),\n",
       " (14, 0.87401184233025764),\n",
       " (11, 0.88047713906656067),\n",
       " (8, 0.88427248752843102),\n",
       " (19, 0.88854435748492944),\n",
       " (3, 0.89517151632780823),\n",
       " (9, 0.90550888174769317),\n",
       " (7, 0.92587506833388988),\n",
       " (5, 0.94023856953328033),\n",
       " (15, 0.94427217874246472),\n",
       " (18, 0.94427217874246472),\n",
       " (1, 0.95275444087384664),\n",
       " (17, 0.95664450152379399),\n",
       " (0, 1)]"
      ]
     },
     "execution_count": 57,
     "metadata": {},
     "output_type": "execute_result"
    }
   ],
   "source": [
    "res_cos"
   ]
  },
  {
   "cell_type": "code",
   "execution_count": 59,
   "metadata": {
    "collapsed": true
   },
   "outputs": [],
   "source": [
    "ans = u'6 4'\n",
    "with open('sumbission-1.txt', 'w') as f:\n",
    "    f.write(ans)"
   ]
  }
 ],
 "metadata": {
  "kernelspec": {
   "display_name": "Python 2",
   "language": "python",
   "name": "python2"
  },
  "language_info": {
   "codemirror_mode": {
    "name": "ipython",
    "version": 2
   },
   "file_extension": ".py",
   "mimetype": "text/x-python",
   "name": "python",
   "nbconvert_exporter": "python",
   "pygments_lexer": "ipython2",
   "version": "2.7.13"
  }
 },
 "nbformat": 4,
 "nbformat_minor": 2
}
