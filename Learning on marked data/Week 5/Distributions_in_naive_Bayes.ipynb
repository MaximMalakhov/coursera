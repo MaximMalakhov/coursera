{
 "cells": [
  {
   "cell_type": "code",
   "execution_count": 1,
   "metadata": {
    "collapsed": true
   },
   "outputs": [],
   "source": [
    "from sklearn import datasets\n",
    "from sklearn.naive_bayes import BernoulliNB, MultinomialNB, GaussianNB\n",
    "from sklearn.model_selection import cross_val_score\n",
    "import numpy as np"
   ]
  },
  {
   "cell_type": "code",
   "execution_count": 2,
   "metadata": {
    "collapsed": true
   },
   "outputs": [],
   "source": [
    "digits = datasets.load_digits()\n",
    "breast = datasets.load_breast_cancer()"
   ]
  },
  {
   "cell_type": "code",
   "execution_count": 3,
   "metadata": {
    "collapsed": true
   },
   "outputs": [],
   "source": [
    "X_digits = digits.data\n",
    "y_digits = digits.target\n",
    "\n",
    "X_breast = breast.data\n",
    "y_breast = breast.target"
   ]
  },
  {
   "cell_type": "code",
   "execution_count": 4,
   "metadata": {
    "collapsed": true
   },
   "outputs": [],
   "source": [
    "Bern_clf = BernoulliNB()\n",
    "Mult_clf = MultinomialNB()\n",
    "Gauss_clf = GaussianNB()"
   ]
  },
  {
   "cell_type": "code",
   "execution_count": 7,
   "metadata": {},
   "outputs": [],
   "source": [
    "Bern_val_score_digits = cross_val_score(Bern_clf,X_digits,y_digits).mean()\n",
    "Mult_val_score_digits = cross_val_score(Mult_clf,X_digits,y_digits).mean()\n",
    "Gauss_val_score_digits = cross_val_score(Gauss_clf,X_digits,y_digits).mean()\n",
    "\n",
    "Bern_val_score_breast = cross_val_score(Bern_clf,X_breast,y_breast).mean()\n",
    "Mult_val_score_breast = cross_val_score(Mult_clf,X_breast,y_breast).mean()\n",
    "Gauss_val_score_breast = cross_val_score(Gauss_clf,X_breast,y_breast).mean()"
   ]
  },
  {
   "cell_type": "code",
   "execution_count": 9,
   "metadata": {},
   "outputs": [
    {
     "name": "stdout",
     "output_type": "stream",
     "text": [
      "BernoulliNB, digits =  0.825823650778\n",
      "MultinomialNB, digits =  0.870877148974\n",
      "GaussianNB, digits =  0.818600380355\n",
      "\n",
      "BernoulliNB, breast =  0.627420402859\n",
      "MultinomialNB, breast =  0.894579040193\n",
      "GaussianNB, breast =  0.936749280609\n"
     ]
    }
   ],
   "source": [
    "print 'BernoulliNB, digits = ', Bern_val_score_digits\n",
    "print 'MultinomialNB, digits = ', Mult_val_score_digits\n",
    "print 'GaussianNB, digits = ', Gauss_val_score_digits\n",
    "print\n",
    "print 'BernoulliNB, breast = ', Bern_val_score_breast\n",
    "print 'MultinomialNB, breast = ', Mult_val_score_breast\n",
    "print 'GaussianNB, breast = ', Gauss_val_score_breast"
   ]
  },
  {
   "cell_type": "markdown",
   "metadata": {},
   "source": [
    "**Вопрос 1**\n",
    "\n",
    "Каким получилось максимальное качество классификации на датасете breast_cancer?\n",
    "\n",
    "**Вопрос 2**\n",
    "\n",
    "Каким получилось максимальное качество классификации на датасете digits?\n",
    "\n",
    "**Вопрос 3**\n",
    "\n",
    "Выберите верные утверждения и запишите их номера через пробел (в порядке возрастания номера):\n",
    "\n",
    "1) На вещественных признаках лучше всего сработал наивный байесовский классификатор с распределением Бернулли\n",
    "\n",
    "2) На вещественных признаках лучше всего сработал наивный байесовский классификатор с мультиномиальным распределением\n",
    "\n",
    "3) Мультиномиальное распределение лучше показало себя на выборке с целыми неотрицательными значениями признаков\n",
    "\n",
    "4) На вещественных признаках лучше всего сработало нормальное распределение"
   ]
  },
  {
   "cell_type": "code",
   "execution_count": 10,
   "metadata": {
    "collapsed": true
   },
   "outputs": [],
   "source": [
    "ans1 = '0.936749280609'\n",
    "ans2 = '0.870877148974'\n",
    "ans3 = '3 4'\n",
    "\n",
    "def F_write(ans,file_name):\n",
    "    with open(file_name, 'w') as file_out:\n",
    "        file_out.write(str(ans))\n",
    "        \n",
    "F_write(ans1,'naive_bayes_ans_1')\n",
    "F_write(ans2,'naive_bayes_ans_2')\n",
    "F_write(ans3,'naive_bayes_ans_3')"
   ]
  }
 ],
 "metadata": {
  "kernelspec": {
   "display_name": "Python 2",
   "language": "python",
   "name": "python2"
  },
  "language_info": {
   "codemirror_mode": {
    "name": "ipython",
    "version": 2
   },
   "file_extension": ".py",
   "mimetype": "text/x-python",
   "name": "python",
   "nbconvert_exporter": "python",
   "pygments_lexer": "ipython2",
   "version": "2.7.13"
  }
 },
 "nbformat": 4,
 "nbformat_minor": 2
}
