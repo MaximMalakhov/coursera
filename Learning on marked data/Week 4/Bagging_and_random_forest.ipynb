{
 "cells": [
  {
   "cell_type": "code",
   "execution_count": 2,
   "metadata": {},
   "outputs": [],
   "source": [
    "from sklearn import cross_validation, model_selection, linear_model, tree, ensemble\n",
    "from sklearn.datasets import load_digits\n",
    "\n",
    "import numpy as np\n",
    "import pandas as pd"
   ]
  },
  {
   "cell_type": "code",
   "execution_count": 3,
   "metadata": {},
   "outputs": [
    {
     "name": "stdout",
     "output_type": "stream",
     "text": [
      "Populating the interactive namespace from numpy and matplotlib\n"
     ]
    }
   ],
   "source": [
    "%pylab inline"
   ]
  },
  {
   "cell_type": "code",
   "execution_count": 4,
   "metadata": {
    "collapsed": true
   },
   "outputs": [],
   "source": [
    "# Load data\n",
    "digits = load_digits()\n",
    "X = digits.data\n",
    "y = digits.target"
   ]
  },
  {
   "cell_type": "code",
   "execution_count": 5,
   "metadata": {},
   "outputs": [
    {
     "name": "stdout",
     "output_type": "stream",
     "text": [
      "0.423640007073\n"
     ]
    }
   ],
   "source": [
    "# Оценка качества\n",
    "lasso = linear_model.Lasso()\n",
    "val_cross_score = model_selection.cross_val_score(lasso, X, y, cv = 10)\n",
    "print val_cross_score.mean()"
   ]
  },
  {
   "cell_type": "code",
   "execution_count": 6,
   "metadata": {},
   "outputs": [
    {
     "name": "stdout",
     "output_type": "stream",
     "text": [
      "0.833098485775\n"
     ]
    }
   ],
   "source": [
    "# task - 1, Create a DecisionTreeClassifier with the default\n",
    "# settings and measure the quality\n",
    "\n",
    "estimator_DTC = tree.DecisionTreeClassifier()\n",
    "cross_score_DTC = model_selection.cross_val_score(estimator_DTC, X, y, cv = 10)\n",
    "ans1 = cross_score_DTC.mean()\n",
    "print ans1"
   ]
  },
  {
   "cell_type": "code",
   "execution_count": 7,
   "metadata": {
    "collapsed": true
   },
   "outputs": [],
   "source": [
    "with open('ans1.txt', 'w') as file_out:\n",
    "        file_out.write(str(ans1))"
   ]
  },
  {
   "cell_type": "code",
   "execution_count": 8,
   "metadata": {},
   "outputs": [
    {
     "name": "stdout",
     "output_type": "stream",
     "text": [
      "0.921574884943\n"
     ]
    }
   ],
   "source": [
    "# task - 2 \n",
    "bagging = ensemble.BaggingClassifier (estimator_DTC,n_estimators=100)#learning,tree\n",
    "cross_score_badding = model_selection.cross_val_score(bagging, X, y, cv = 10,n_jobs = 6)\n",
    "ans2 = cross_score_badding.mean()\n",
    "print ans2"
   ]
  },
  {
   "cell_type": "code",
   "execution_count": 9,
   "metadata": {
    "collapsed": true
   },
   "outputs": [],
   "source": [
    "with open('ans2.txt', 'w') as file_out:\n",
    "        file_out.write(str(ans2))"
   ]
  },
  {
   "cell_type": "code",
   "execution_count": 10,
   "metadata": {},
   "outputs": [
    {
     "name": "stdout",
     "output_type": "stream",
     "text": [
      "0.928183695662\n"
     ]
    }
   ],
   "source": [
    "# task - 3 \n",
    "d = int(np.sqrt(X.shape[1]))\n",
    "bagging_2 = ensemble.BaggingClassifier(estimator_DTC,n_estimators=100, max_features = d)#learning,tree\n",
    "cross_score_badding_2 = model_selection.cross_val_score(bagging_2, X, y, cv = 10,n_jobs = 6)\n",
    "ans3 = cross_score_badding_2.mean()\n",
    "print ans3"
   ]
  },
  {
   "cell_type": "code",
   "execution_count": 11,
   "metadata": {
    "collapsed": true
   },
   "outputs": [],
   "source": [
    "with open('ans3.txt', 'w') as file_out:\n",
    "        file_out.write(str(ans3))"
   ]
  },
  {
   "cell_type": "code",
   "execution_count": 12,
   "metadata": {},
   "outputs": [
    {
     "name": "stdout",
     "output_type": "stream",
     "text": [
      "0.956608454456\n"
     ]
    }
   ],
   "source": [
    "# task - 4\n",
    "estimator_DTC = tree.DecisionTreeClassifier(max_features = d)\n",
    "bagging_3 = ensemble.BaggingClassifier(estimator_DTC,n_estimators=100)#learning,tree\n",
    "cross_score_badding_3 = model_selection.cross_val_score(bagging_3, X, y, cv = 10,n_jobs = 6)\n",
    "ans4 = cross_score_badding_3.mean()\n",
    "print ans4"
   ]
  },
  {
   "cell_type": "code",
   "execution_count": 13,
   "metadata": {
    "collapsed": true
   },
   "outputs": [],
   "source": [
    "with open('ans4.txt', 'w') as file_out:\n",
    "        file_out.write(str(ans4))"
   ]
  },
  {
   "cell_type": "code",
   "execution_count": 14,
   "metadata": {},
   "outputs": [
    {
     "data": {
      "text/plain": [
       "[<matplotlib.lines.Line2D at 0xd75e160>]"
      ]
     },
     "execution_count": 14,
     "metadata": {},
     "output_type": "execute_result"
    },
    {
     "data": {
      "image/png": "[encoded data removed]",
      "text/plain": [
       "<matplotlib.figure.Figure at 0xd720588>"
      ]
     },
     "metadata": {},
     "output_type": "display_data"
    }
   ],
   "source": [
    "pylab.grid(True)\n",
    "pylab.ylim((0., 1.))\n",
    "pylab.plot(cross_score_badding_3)"
   ]
  },
  {
   "cell_type": "code",
   "execution_count": 15,
   "metadata": {},
   "outputs": [
    {
     "name": "stdout",
     "output_type": "stream",
     "text": [
      "0.919929754031\n"
     ]
    }
   ],
   "source": [
    "random_forest = ensemble.RandomForestClassifier(max_depth = 15,random_state = 1)#learning,tree\n",
    "cross_score_random = model_selection.cross_val_score(random_forest, X, y, cv = 10,n_jobs = 6)\n",
    "ans5 = cross_score_random.mean()\n",
    "print ans5"
   ]
  },
  {
   "cell_type": "code",
   "execution_count": 16,
   "metadata": {},
   "outputs": [
    {
     "data": {
      "text/plain": [
       "[<matplotlib.lines.Line2D at 0xdb34e48>]"
      ]
     },
     "execution_count": 16,
     "metadata": {},
     "output_type": "execute_result"
    },
    {
     "data": {
      "image/png": "[encoded data removed]",
      "text/plain": [
       "<matplotlib.figure.Figure at 0xdff3ba8>"
      ]
     },
     "metadata": {},
     "output_type": "display_data"
    }
   ],
   "source": [
    "pylab.grid(True)\n",
    "pylab.ylim((0., 1.))\n",
    "pylab.plot(cross_score_random)"
   ]
  },
  {
   "cell_type": "code",
   "execution_count": 17,
   "metadata": {
    "collapsed": true
   },
   "outputs": [],
   "source": [
    "# task - 6\n",
    "trees = 1 + np.arange(0,100,5)\n",
    "res_val_trees = []\n",
    "for i in trees:\n",
    "    random_forest = ensemble.RandomForestClassifier(max_depth = 5,random_state = 1,n_estimators = i)#learning,tree\n",
    "    cross_score_random = model_selection.cross_val_score(random_forest, X, y, cv = 10,n_jobs = 6)\n",
    "    res_val_trees.append(cross_score_random)"
   ]
  },
  {
   "cell_type": "code",
   "execution_count": 18,
   "metadata": {},
   "outputs": [
    {
     "data": {
      "text/plain": [
       "<matplotlib.text.Text at 0xca605f8>"
      ]
     },
     "execution_count": 18,
     "metadata": {},
     "output_type": "execute_result"
    },
    {
     "data": {
      "image/png": "[encoded data removed]",
      "text/plain": [
       "<matplotlib.figure.Figure at 0xd720978>"
      ]
     },
     "metadata": {},
     "output_type": "display_data"
    }
   ],
   "source": [
    "pylab.grid(True)\n",
    "pylab.plot(trees,np.asmatrix(res_val_trees).mean(axis=1),marker='*')\n",
    "pylab.title(u'Зависимость от кол-ва деверьев')\n",
    "pylab.xlabel('trees')\n",
    "pylab.ylabel('accuracy')"
   ]
  },
  {
   "cell_type": "code",
   "execution_count": 19,
   "metadata": {
    "collapsed": true
   },
   "outputs": [],
   "source": [
    "d2 = X.shape[1]\n",
    "res_val_features = []\n",
    "for i in np.arange(0.1,1.1,0.1):\n",
    "    random_forest = ensemble.RandomForestClassifier(max_depth = 5,random_state = 1,n_estimators = 60,max_features = int(i * d2))#learning,tree\n",
    "    cross_score_random = model_selection.cross_val_score(random_forest, X, y, cv = 10,n_jobs = 6)\n",
    "    res_val_features.append(cross_score_random)"
   ]
  },
  {
   "cell_type": "code",
   "execution_count": 20,
   "metadata": {},
   "outputs": [
    {
     "data": {
      "text/plain": [
       "<matplotlib.text.Text at 0xe279128>"
      ]
     },
     "execution_count": 20,
     "metadata": {},
     "output_type": "execute_result"
    },
    {
     "data": {
      "image/png": "[encoded data removed]",
      "text/plain": [
       "<matplotlib.figure.Figure at 0xc86c048>"
      ]
     },
     "metadata": {},
     "output_type": "display_data"
    }
   ],
   "source": [
    "pylab.grid(True)\n",
    "pylab.plot(np.arange(0.1,1.1,0.1),np.asmatrix(res_val_features).mean(axis=1),marker='*')\n",
    "pylab.title(u'Зависимость от выборки')\n",
    "pylab.xlabel('features')\n",
    "pylab.ylabel('accuracy')"
   ]
  },
  {
   "cell_type": "code",
   "execution_count": 21,
   "metadata": {},
   "outputs": [
    {
     "data": {
      "text/plain": [
       "0.95668140849751171"
      ]
     },
     "execution_count": 21,
     "metadata": {},
     "output_type": "execute_result"
    }
   ],
   "source": [
    "random_forest = ensemble.RandomForestClassifier(max_depth = 15,random_state = 1,n_estimators = 60)#learning,tree\n",
    "cross_score_random = model_selection.cross_val_score(random_forest, X, y, cv = 10,n_jobs = 6)\n",
    "cross_score_random.mean()"
   ]
  },
  {
   "cell_type": "code",
   "execution_count": 24,
   "metadata": {},
   "outputs": [],
   "source": [
    "ans5 = '2 3 4 7'\n",
    "with open(\"ans5.txt\", \"w\") as fout:\n",
    "    fout.write(str(ans5))"
   ]
  },
  {
   "cell_type": "code",
   "execution_count": null,
   "metadata": {
    "collapsed": true
   },
   "outputs": [],
   "source": []
  }
 ],
 "metadata": {
  "kernelspec": {
   "display_name": "Python 2",
   "language": "python",
   "name": "python2"
  },
  "language_info": {
   "codemirror_mode": {
    "name": "ipython",
    "version": 2
   },
   "file_extension": ".py",
   "mimetype": "text/x-python",
   "name": "python",
   "nbconvert_exporter": "python",
   "pygments_lexer": "ipython2",
   "version": "2.7.13"
  }
 },
 "nbformat": 4,
 "nbformat_minor": 2
}
