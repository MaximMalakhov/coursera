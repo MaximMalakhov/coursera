{
 "cells": [
  {
   "cell_type": "markdown",
   "metadata": {},
   "source": [
    "# Градиентный бустинг своими руками\n",
    "\n",
    "**Внимание:** в тексте задания произошли изменения - поменялось число деревьев (теперь 50), правило изменения величины шага в задании 3 и добавился параметр `random_state` у решающего дерева. Правильные ответы не поменялись, но теперь их проще получить. Также исправлена опечатка в функции `gbm_predict`.\n",
    "\n",
    "В этом задании будет использоваться датасет `boston` из `sklearn.datasets`. Оставьте последние 25% объектов для контроля качества, разделив `X` и `y` на `X_train`, `y_train` и `X_test`, `y_test`.\n",
    "\n",
    "Целью задания будет реализовать простой вариант градиентного бустинга над регрессионными деревьями для случая квадратичной функции потерь."
   ]
  },
  {
   "cell_type": "code",
   "execution_count": 1,
   "metadata": {},
   "outputs": [
    {
     "name": "stderr",
     "output_type": "stream",
     "text": [
      "/Users/educationalprogram/anaconda/lib/python2.7/site-packages/sklearn/cross_validation.py:44: DeprecationWarning: This module was deprecated in version 0.18 in favor of the model_selection module into which all the refactored classes and functions are moved. Also note that the interface of the new CV iterators are different from that of this module. This module will be removed in 0.20.\n",
      "  \"This module will be removed in 0.20.\", DeprecationWarning)\n",
      "/Users/educationalprogram/anaconda/lib/python2.7/site-packages/sklearn/learning_curve.py:23: DeprecationWarning: This module was deprecated in version 0.18 in favor of the model_selection module into which all the functions are moved. This module will be removed in 0.20\n",
      "  DeprecationWarning)\n"
     ]
    }
   ],
   "source": [
    "from sklearn import cross_validation, datasets, metrics, tree, ensemble, learning_curve\n",
    "\n",
    "import numpy as np\n",
    "import pandas as pd"
   ]
  },
  {
   "cell_type": "code",
   "execution_count": 2,
   "metadata": {},
   "outputs": [
    {
     "name": "stdout",
     "output_type": "stream",
     "text": [
      "Populating the interactive namespace from numpy and matplotlib\n"
     ]
    }
   ],
   "source": [
    "%pylab inline"
   ]
  },
  {
   "cell_type": "code",
   "execution_count": 3,
   "metadata": {
    "collapsed": true
   },
   "outputs": [],
   "source": [
    "boston = datasets.load_boston()\n",
    "\n",
    "X_train = boston.data[:379]\n",
    "X_test = boston.data[379:]\n",
    "y_train = boston.target[:379]\n",
    "y_test = boston.target[379:]"
   ]
  },
  {
   "cell_type": "markdown",
   "metadata": {},
   "source": [
    "## Задание 1\n",
    "\n",
    "Как вы уже знаете из лекций, **бустинг** - это метод построения композиций базовых алгоритмов с помощью последовательного добавления к текущей композиции нового алгоритма с некоторым коэффициентом. \n",
    "\n",
    "Градиентный бустинг обучает каждый новый алгоритм так, чтобы он приближал антиградиент ошибки по ответам композиции на обучающей выборке. Аналогично минимизации функций методом градиентного спуска, в градиентном бустинге мы подправляем композицию, изменяя алгоритм в направлении антиградиента ошибки.\n",
    "\n",
    "Воспользуйтесь формулой из лекций, задающей ответы на обучающей выборке, на которые нужно обучать новый алгоритм (фактически это лишь чуть более подробно расписанный градиент от ошибки), и получите частный ее случай, если функция потерь `L` - квадрат отклонения ответа композиции `a(x)` от правильного ответа `y` на данном `x`.\n",
    "\n",
    "Если вы давно не считали производную самостоятельно, вам поможет таблица производных элементарных функций (которую несложно найти в интернете) и правило дифференцирования сложной функции. После дифференцирования квадрата у вас возникнет множитель 2 — т.к. нам все равно предстоит выбирать коэффициент, с которым будет добавлен новый базовый алгоритм, проигноируйте этот множитель при дальнейшем построении алгоритма."
   ]
  },
  {
   "cell_type": "code",
   "execution_count": 4,
   "metadata": {
    "collapsed": true
   },
   "outputs": [],
   "source": [
    "def grad(y,z):\n",
    "    return y - z"
   ]
  },
  {
   "cell_type": "markdown",
   "metadata": {},
   "source": [
    "## Задание 2\n",
    "\n",
    "Заведите массив для объектов `DecisionTreeRegressor` (будем их использовать в качестве базовых алгоритмов) и для вещественных чисел (это будут коэффициенты перед базовыми алгоритмами). \n",
    "\n",
    "В цикле от обучите последовательно 50 решающих деревьев с параметрами `max_depth=5` и `random_state=42` (остальные параметры - по умолчанию). В бустинге зачастую используются сотни и тысячи деревьев, но мы ограничимся 50, чтобы алгоритм работал быстрее, и его было проще отлаживать (т.к. цель задания разобраться, как работает метод). Каждое дерево должно обучаться на одном и том же множестве объектов, но ответы, которые учится прогнозировать дерево, будут меняться в соответствие с полученным в задании 1 правилом. \n",
    "\n",
    "Попробуйте для начала всегда брать коэффициент равным 0.9. Обычно оправдано выбирать коэффициент значительно меньшим - порядка 0.05 или 0.1, но т.к. в нашем учебном примере на стандартном датасете будет всего 50 деревьев, возьмем для начала шаг побольше.\n",
    "\n",
    "В процессе реализации обучения вам потребуется функция, которая будет вычислять прогноз построенной на данный момент композиции деревьев на выборке `X`:\n",
    "\n",
    "```\n",
    "def gbm_predict(X):\n",
    "    return [sum([coeff * algo.predict([x])[0] for algo, coeff in zip(base_algorithms_list, coefficients_list)]) for x in X]\n",
    "(считаем, что base_algorithms_list - список с базовыми алгоритмами, coefficients_list - список с коэффициентами перед алгоритмами)\n",
    "```\n",
    "\n",
    "Эта же функция поможет вам получить прогноз на контрольной выборке и оценить качество работы вашего алгоритма с помощью `mean_squared_error` в `sklearn.metrics`. \n",
    "\n",
    "Возведите результат в степень 0.5, чтобы получить `RMSE`. Полученное значение `RMSE` — **ответ в пункте 2**."
   ]
  },
  {
   "cell_type": "code",
   "execution_count": 5,
   "metadata": {},
   "outputs": [
    {
     "name": "stdout",
     "output_type": "stream",
     "text": [
      "error №  1  =  4.67115371425 \n",
      "\n",
      "error №  2  =  4.902307279 \n",
      "\n",
      "error №  3  =  4.96414761873 \n",
      "\n",
      "error №  4  =  5.22591814058 \n",
      "\n",
      "error №  5  =  5.15731316944 \n",
      "\n",
      "error №  6  =  5.26203169472 \n",
      "\n",
      "error №  7  =  5.31037728018 \n",
      "\n",
      "error №  8  =  5.49735236302 \n",
      "\n",
      "error №  9  =  5.50976262651 \n",
      "\n",
      "error №  10  =  5.51536443259 \n",
      "\n",
      "error №  11  =  5.50874833155 \n",
      "\n",
      "error №  12  =  5.50754530432 \n",
      "\n",
      "error №  13  =  5.51337953929 \n",
      "\n",
      "error №  14  =  5.44512320786 \n",
      "\n",
      "error №  15  =  5.47672020639 \n",
      "\n",
      "error №  16  =  5.47542645699 \n",
      "\n",
      "error №  17  =  5.4638455167 \n",
      "\n",
      "error №  18  =  5.47292361429 \n",
      "\n",
      "error №  19  =  5.47237372531 \n",
      "\n",
      "error №  20  =  5.47663342962 \n",
      "\n",
      "error №  21  =  5.47389832656 \n",
      "\n",
      "error №  22  =  5.47462444855 \n",
      "\n",
      "error №  23  =  5.47809994824 \n",
      "\n",
      "error №  24  =  5.47969742317 \n",
      "\n",
      "error №  25  =  5.48095722855 \n",
      "\n",
      "error №  26  =  5.47970381231 \n",
      "\n",
      "error №  27  =  5.48104693831 \n",
      "\n",
      "error №  28  =  5.49604397771 \n",
      "\n",
      "error №  29  =  5.47733948699 \n",
      "\n",
      "error №  30  =  5.47798717367 \n",
      "\n",
      "error №  31  =  5.47802828313 \n",
      "\n",
      "error №  32  =  5.47637513571 \n",
      "\n",
      "error №  33  =  5.47620399489 \n",
      "\n",
      "error №  34  =  5.47602454125 \n",
      "\n",
      "error №  35  =  5.47696019446 \n",
      "\n",
      "error №  36  =  5.47841604605 \n",
      "\n",
      "error №  37  =  5.47772991619 \n",
      "\n",
      "error №  38  =  5.47614603779 \n",
      "\n",
      "error №  39  =  5.47679470442 \n",
      "\n",
      "error №  40  =  5.47669503426 \n",
      "\n",
      "error №  41  =  5.47632897204 \n",
      "\n",
      "error №  42  =  5.47574966183 \n",
      "\n",
      "error №  43  =  5.47601272123 \n",
      "\n",
      "error №  44  =  5.47612194832 \n",
      "\n",
      "error №  45  =  5.47673970866 \n",
      "\n",
      "error №  46  =  5.47674382025 \n",
      "\n",
      "error №  47  =  5.47681407471 \n",
      "\n",
      "error №  48  =  5.47676640788 \n",
      "\n",
      "error №  49  =  5.47665097417 \n",
      "\n"
     ]
    }
   ],
   "source": [
    "def gbm_predict(X):\n",
    "    return [sum([coeff * algo.predict([x])[0] for algo, coeff in zip\n",
    "                 (base_algorithms_list, coefficients_list)]) for x in X]\n",
    "#(считаем, что base_algorithms_list - список с базовыми алгоритмами,\n",
    " #coefficients_list - список с коэффициентами перед алгоритмами)\n",
    "base_algorithms_list = []\n",
    "coefficients_list = []\n",
    "error_2 = []\n",
    "\n",
    "estimator = tree.DecisionTreeRegressor(max_depth=5, random_state = 42)    \n",
    "estimator.fit(X_train, y_train)\n",
    "base_algorithms_list.append(estimator)\n",
    "coefficients_list.append(0.9)\n",
    "err = np.sqrt(metrics.mean_squared_error(y_test, gbm_predict(X_test)))\n",
    "error_2.append(err)\n",
    "    \n",
    "for i in range(1, 50):\n",
    "    estimator = tree.DecisionTreeRegressor(max_depth=5,random_state = 42)    \n",
    "    \n",
    "    y_pred = gbm_predict(X_train)\n",
    "    \n",
    "    estimator.fit(X_train, grad(y_train, y_pred))\n",
    "    base_algorithms_list.append(estimator)\n",
    "    coefficients_list.append(0.9)\n",
    "    \n",
    "    err = np.sqrt(metrics.mean_squared_error(y_test, gbm_predict(X_test)))\n",
    "    error_2.append(err)\n",
    "    print 'error № ',i,' = ', err,'\\n'"
   ]
  },
  {
   "cell_type": "code",
   "execution_count": 6,
   "metadata": {},
   "outputs": [
    {
     "name": "stdout",
     "output_type": "stream",
     "text": [
      "5.47665097417\n"
     ]
    }
   ],
   "source": [
    "ans1 = error_2[49]\n",
    "print ans1\n",
    "with open('grad_boost_ans1.txt', 'w') as file_out:\n",
    "        file_out.write(str(ans1))"
   ]
  },
  {
   "cell_type": "markdown",
   "metadata": {},
   "source": [
    "## Задание 3\n",
    "\n",
    "Вас может также беспокоить, что двигаясь с постоянным шагом, вблизи минимума ошибки ответы на обучающей выборке меняются слишком резко, перескакивая через минимум. \n",
    "\n",
    "Попробуйте уменьшать вес перед каждым алгоритмом с каждой следующей итерацией по формуле `0.9 / (1.0 + i)`, где `i` - номер итерации (от 0 до 49). Используйте качество работы алгоритма как **ответ в пункте 3**. \n",
    "\n",
    "В реальности часто применяется следующая стратегия выбора шага: как только выбран алгоритм, подберем коэффициент перед ним численным методом оптимизации таким образом, чтобы отклонение от правильных ответов было минимальным. Мы не будем предлагать вам реализовать это для выполнения задания, но рекомендуем попробовать разобраться с такой стратегией и реализовать ее при случае для себя."
   ]
  },
  {
   "cell_type": "code",
   "execution_count": 7,
   "metadata": {},
   "outputs": [
    {
     "name": "stdout",
     "output_type": "stream",
     "text": [
      "error №  1  =  4.41159494834 \n",
      "\n",
      "error №  2  =  4.39118317166 \n",
      "\n",
      "error №  3  =  4.45874508257 \n",
      "\n",
      "error №  4  =  4.49862725958 \n",
      "\n",
      "error №  5  =  4.51678863168 \n",
      "\n",
      "error №  6  =  4.55049937011 \n",
      "\n",
      "error №  7  =  4.60844761848 \n",
      "\n",
      "error №  8  =  4.63333747349 \n",
      "\n",
      "error №  9  =  4.65090865256 \n",
      "\n",
      "error №  10  =  4.65853296944 \n",
      "\n",
      "error №  11  =  4.66516497966 \n",
      "\n",
      "error №  12  =  4.68676877506 \n",
      "\n",
      "error №  13  =  4.7042338802 \n",
      "\n",
      "error №  14  =  4.70790404385 \n",
      "\n",
      "error №  15  =  4.72596972469 \n",
      "\n",
      "error №  16  =  4.73740159456 \n",
      "\n",
      "error №  17  =  4.74223331219 \n",
      "\n",
      "error №  18  =  4.74675518764 \n",
      "\n",
      "error №  19  =  4.75332257595 \n",
      "\n",
      "error №  20  =  4.75947997184 \n",
      "\n",
      "error №  21  =  4.76345795617 \n",
      "\n",
      "error №  22  =  4.7635949072 \n",
      "\n",
      "error №  23  =  4.76186700767 \n",
      "\n",
      "error №  24  =  4.76187942782 \n",
      "\n",
      "error №  25  =  4.76105843061 \n",
      "\n",
      "error №  26  =  4.75686234322 \n",
      "\n",
      "error №  27  =  4.76717333036 \n",
      "\n",
      "error №  28  =  4.77047187654 \n",
      "\n",
      "error №  29  =  4.77893655078 \n",
      "\n",
      "error №  30  =  4.77514295762 \n",
      "\n",
      "error №  31  =  4.78222265584 \n",
      "\n",
      "error №  32  =  4.7850000048 \n",
      "\n",
      "error №  33  =  4.78690822047 \n",
      "\n",
      "error №  34  =  4.7856983121 \n",
      "\n",
      "error №  35  =  4.79090520221 \n",
      "\n",
      "error №  36  =  4.79195203191 \n",
      "\n",
      "error №  37  =  4.7978781996 \n",
      "\n",
      "error №  38  =  4.80244390205 \n",
      "\n",
      "error №  39  =  4.80228245136 \n",
      "\n",
      "error №  40  =  4.80151458777 \n",
      "\n",
      "error №  41  =  4.80245728121 \n",
      "\n",
      "error №  42  =  4.80389666243 \n",
      "\n",
      "error №  43  =  4.80323339564 \n",
      "\n",
      "error №  44  =  4.80213993236 \n",
      "\n",
      "error №  45  =  4.80320212453 \n",
      "\n",
      "error №  46  =  4.80730227795 \n",
      "\n",
      "error №  47  =  4.80663144813 \n",
      "\n",
      "error №  48  =  4.80727023114 \n",
      "\n",
      "error №  49  =  4.81089328026 \n",
      "\n"
     ]
    }
   ],
   "source": [
    "base_algorithms_list = []\n",
    "coefficients_list = []\n",
    "error_3 = []\n",
    "\n",
    "estimator = tree.DecisionTreeRegressor(max_depth=5, random_state = 42)    \n",
    "estimator.fit(X_train, y_train)\n",
    "base_algorithms_list.append(estimator)\n",
    "coefficients_list.append(0.9)\n",
    "err = np.sqrt(metrics.mean_squared_error(y_test, gbm_predict(X_test)))\n",
    "error_3.append(err)\n",
    "    \n",
    "for i in range(1, 50):\n",
    "    estimator = tree.DecisionTreeRegressor(max_depth=5,random_state = 42)    \n",
    "    \n",
    "    y_pred = gbm_predict(X_train)\n",
    "    \n",
    "    estimator.fit(X_train, grad(y_train, y_pred))\n",
    "    base_algorithms_list.append(estimator)\n",
    "    coefficients_list.append(0.9/(1. + i))\n",
    "    \n",
    "    err = np.sqrt(metrics.mean_squared_error(y_test, gbm_predict(X_test)))\n",
    "    error_3.append(err)\n",
    "    print 'error № ',i,' = ', err,'\\n'"
   ]
  },
  {
   "cell_type": "code",
   "execution_count": 8,
   "metadata": {},
   "outputs": [
    {
     "name": "stdout",
     "output_type": "stream",
     "text": [
      "4.81089328026\n"
     ]
    }
   ],
   "source": [
    "ans2 = error_3[49]\n",
    "print ans2\n",
    "with open('grad_boost_ans2.txt', 'w') as file_out:\n",
    "        file_out.write(str(ans2))"
   ]
  },
  {
   "cell_type": "markdown",
   "metadata": {},
   "source": [
    "## Задание 4\n",
    "\n",
    "Реализованный вами метод - градиентный бустинг над деревьями - очень популярен в машинном обучении. Он представлен как в самой библиотеке `sklearn`, так и в сторонней библиотеке `XGBoost`, которая имеет свой питоновский интерфейс. На практике `XGBoost` работает заметно лучше `GradientBoostingRegressor` из `sklearn`, но для этого задания вы можете использовать любую реализацию. \n",
    "\n",
    "Исследуйте, переобучается ли градиентный бустинг с ростом числа итераций (и подумайте, почему), а также с ростом глубины деревьев. На основе наблюдений выпишите через пробел номера правильных из приведенных ниже утверждений в порядке возрастания номера (это будет **ответ в п.4**):\n",
    "\n",
    "    1. С увеличением числа деревьев, начиная с некоторого момента, качество работы градиентного бустинга не меняется существенно.\n",
    "\n",
    "    2. С увеличением числа деревьев, начиная с некоторого момента, градиентный бустинг начинает переобучаться.\n",
    "\n",
    "    3. С ростом глубины деревьев, начиная с некоторого момента, качество работы градиентного бустинга на тестовой выборке начинает ухудшаться.\n",
    "\n",
    "    4. С ростом глубины деревьев, начиная с некоторого момента, качество работы градиентного бустинга перестает существенно изменяться"
   ]
  },
  {
   "cell_type": "code",
   "execution_count": 9,
   "metadata": {},
   "outputs": [
    {
     "name": "stdout",
     "output_type": "stream",
     "text": [
      "1 2 3 4 5 6 7 8 9 10 11 12 13 14 15 16 17 18 19 20 21 22 23 24 25 26 27 28 29 30 31 32 33 34 35 36 37 38 39 40 41 42 43 44 45 46 47 48 49 50 51 52 53 54 55 56 57 58 59 60 61 62 63 64 65 66 67 68 69 70 71 72 73 74 75 76 77 78 79 80 81 82 83 84 85 86 87 88 89 90 91 92 93 94 95 96 97 98 99\n"
     ]
    }
   ],
   "source": [
    "# iteration\n",
    "err_list = []\n",
    "coefficients_list = []\n",
    "base_algorithms_list = []\n",
    "\n",
    "estimator = tree.DecisionTreeRegressor(max_depth=5, random_state = 42)    \n",
    "estimator.fit(X_train, y_train)\n",
    "base_algorithms_list.append(estimator)\n",
    "coefficients_list.append(0.9)\n",
    "err = np.sqrt(metrics.mean_squared_error(y_test, gbm_predict(X_test)))\n",
    "err_list.append(err)\n",
    "    \n",
    "for i in range(1, 100):\n",
    "    estimator = tree.DecisionTreeRegressor(max_depth=5,random_state = 42)    \n",
    "    \n",
    "    y_pred = gbm_predict(X_train)\n",
    "    \n",
    "    estimator.fit(X_train, grad(y_train, y_pred))\n",
    "    base_algorithms_list.append(estimator)\n",
    "    coefficients_list.append(0.9/(1. + i))\n",
    "    \n",
    "    err = np.sqrt(metrics.mean_squared_error(y_test, gbm_predict(X_test)))\n",
    "    err_list.append(err)\n",
    "    print i,"
   ]
  },
  {
   "cell_type": "code",
   "execution_count": 10,
   "metadata": {},
   "outputs": [
    {
     "data": {
      "text/plain": [
       "[<matplotlib.lines.Line2D at 0x117f10f50>]"
      ]
     },
     "execution_count": 10,
     "metadata": {},
     "output_type": "execute_result"
    },
    {
     "data": {
      "image/png": "[encoded data removed]",
      "text/plain": [
       "<matplotlib.figure.Figure at 0x117f34d10>"
      ]
     },
     "metadata": {},
     "output_type": "display_data"
    }
   ],
   "source": [
    "plt.plot(range(0, 100), err_list)"
   ]
  },
  {
   "cell_type": "code",
   "execution_count": 11,
   "metadata": {},
   "outputs": [
    {
     "name": "stdout",
     "output_type": "stream",
     "text": [
      "1 2 3 4 5 6 7 8 9 10 11 12 13 14 15 16 17 18 19 20 21 22 23 24 25 26 27 28 29 30 31 32 33 34 35 36 37 38 39 40 41 42 43 44 45 46 47 48 49\n"
     ]
    }
   ],
   "source": [
    "# max_depth\n",
    "err_list = []\n",
    "coefficients_list = []\n",
    "base_algorithms_list = []\n",
    "depths = range(2, 2*50 + 2, 2)\n",
    "\n",
    "estimator = tree.DecisionTreeRegressor(max_depth=depths[0], random_state = 42)    \n",
    "estimator.fit(X_train, y_train)\n",
    "base_algorithms_list.append(estimator)\n",
    "coefficients_list.append(0.9)\n",
    "err = np.sqrt(metrics.mean_squared_error(y_test, gbm_predict(X_test)))\n",
    "err_list.append(err)\n",
    "    \n",
    "for i in range(1, 50):\n",
    "    estimator = tree.DecisionTreeRegressor(max_depth=depths[i],random_state = 42)    \n",
    "    \n",
    "    y_pred = gbm_predict(X_train)\n",
    "    \n",
    "    estimator.fit(X_train, grad(y_train, y_pred))\n",
    "    base_algorithms_list.append(estimator)\n",
    "    coefficients_list.append(0.9/(1.0 + i))\n",
    "    \n",
    "    err = np.sqrt(metrics.mean_squared_error(y_test, gbm_predict(X_test)))\n",
    "    err_list.append(err)\n",
    "    print i,"
   ]
  },
  {
   "cell_type": "code",
   "execution_count": 12,
   "metadata": {},
   "outputs": [
    {
     "data": {
      "text/plain": [
       "[<matplotlib.lines.Line2D at 0x11b3acf50>]"
      ]
     },
     "execution_count": 12,
     "metadata": {},
     "output_type": "execute_result"
    },
    {
     "data": {
      "image/png": "[encoded data removed]",
      "text/plain": [
       "<matplotlib.figure.Figure at 0x117686ed0>"
      ]
     },
     "metadata": {},
     "output_type": "display_data"
    }
   ],
   "source": [
    "plt.plot(depths, err_list)"
   ]
  },
  {
   "cell_type": "code",
   "execution_count": 17,
   "metadata": {},
   "outputs": [],
   "source": [
    "ans3 = '2 3'\n",
    "with open('grad_boost_ans3.txt', 'w') as file_out:\n",
    "        file_out.write(ans3)"
   ]
  },
  {
   "cell_type": "markdown",
   "metadata": {},
   "source": [
    "## Задание 5\n",
    "\n",
    "Сравните получаемое с помощью градиентного бустинга качество с качеством работы линейной регрессии. \n",
    "\n",
    "Для этого обучите `LinearRegression` из `sklearn.linear_model` (с параметрами по умолчанию) на обучающей выборке и оцените для прогнозов полученного алгоритма на тестовой выборке `RMSE`. Полученное качество - ответ в **пункте 5**. \n",
    "\n",
    "В данном примере качество работы простой модели должно было оказаться хуже, но не стоит забывать, что так бывает не всегда. В заданиях к этому курсу вы еще встретите пример обратной ситуации."
   ]
  },
  {
   "cell_type": "code",
   "execution_count": 14,
   "metadata": {
    "collapsed": true
   },
   "outputs": [],
   "source": [
    "from sklearn.linear_model import LinearRegression"
   ]
  },
  {
   "cell_type": "code",
   "execution_count": 15,
   "metadata": {},
   "outputs": [
    {
     "name": "stdout",
     "output_type": "stream",
     "text": [
      "8.27046803494\n"
     ]
    }
   ],
   "source": [
    "LineReg = LinearRegression().fit(X_train, y_train)\n",
    "y_pred = LineReg.predict(X_test)\n",
    "ans5 = np.sqrt(metrics.mean_squared_error(y_test, y_pred))\n",
    "print ans5\n",
    "with open('grad_boost_ans4.txt', 'w') as file_out:\n",
    "        file_out.write(str(ans5))"
   ]
  },
  {
   "cell_type": "code",
   "execution_count": null,
   "metadata": {
    "collapsed": true
   },
   "outputs": [],
   "source": []
  }
 ],
 "metadata": {
  "kernelspec": {
   "display_name": "Python 2",
   "language": "python",
   "name": "python2"
  },
  "language_info": {
   "codemirror_mode": {
    "name": "ipython",
    "version": 2
   },
   "file_extension": ".py",
   "mimetype": "text/x-python",
   "name": "python",
   "nbconvert_exporter": "python",
   "pygments_lexer": "ipython2",
   "version": "2.7.13"
  }
 },
 "nbformat": 4,
 "nbformat_minor": 1
}
